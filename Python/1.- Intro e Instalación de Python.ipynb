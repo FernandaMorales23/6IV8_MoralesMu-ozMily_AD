{
 "cells": [
  {
   "cell_type": "markdown",
   "id": "4fc87110-595b-4ec7-b9b7-6f9be286e21d",
   "metadata": {},
   "source": [
    "# 1.- Intro e Instalación de Python"
   ]
  },
  {
   "cell_type": "code",
   "execution_count": 5,
   "id": "383a570a-9276-475c-a22e-075ccbe1e353",
   "metadata": {},
   "outputs": [
    {
     "data": {
      "text/plain": [
       "69"
      ]
     },
     "execution_count": 5,
     "metadata": {},
     "output_type": "execute_result"
    }
   ],
   "source": [
    "89-20"
   ]
  },
  {
   "cell_type": "code",
   "execution_count": null,
   "id": "84a7f6a7-7fc2-44ff-baec-871ae94b3546",
   "metadata": {},
   "outputs": [],
   "source": []
  },
  {
   "cell_type": "code",
   "execution_count": 8,
   "id": "f1451614-cc28-4635-ade3-6b5ef2d5e124",
   "metadata": {},
   "outputs": [
    {
     "data": {
      "text/plain": [
       "13"
      ]
     },
     "execution_count": 8,
     "metadata": {},
     "output_type": "execute_result"
    }
   ],
   "source": [
    "3+2*5"
   ]
  },
  {
   "cell_type": "code",
   "execution_count": 10,
   "id": "81cb80f7-78ee-44fc-91b6-1f20442301f6",
   "metadata": {},
   "outputs": [
    {
     "data": {
      "text/plain": [
       "25"
      ]
     },
     "execution_count": 10,
     "metadata": {},
     "output_type": "execute_result"
    }
   ],
   "source": [
    "(3+2)*5"
   ]
  },
  {
   "cell_type": "code",
   "execution_count": null,
   "id": "17ece47f-f9f3-44f3-bc79-617b18b1ba5e",
   "metadata": {},
   "outputs": [],
   "source": []
  }
 ],
 "metadata": {
  "kernelspec": {
   "display_name": "Python [conda env:base] *",
   "language": "python",
   "name": "conda-base-py"
  },
  "language_info": {
   "codemirror_mode": {
    "name": "ipython",
    "version": 3
   },
   "file_extension": ".py",
   "mimetype": "text/x-python",
   "name": "python",
   "nbconvert_exporter": "python",
   "pygments_lexer": "ipython3",
   "version": "3.12.7"
  }
 },
 "nbformat": 4,
 "nbformat_minor": 5
}
